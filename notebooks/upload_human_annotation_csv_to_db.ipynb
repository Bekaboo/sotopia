{
 "cells": [
  {
   "cell_type": "markdown",
   "metadata": {},
   "source": [
    "# Uploading rewards from human annotation to DB"
   ]
  },
  {
   "cell_type": "markdown",
   "metadata": {},
   "source": [
    "\n",
    "## Import neccessary packages"
   ]
  },
  {
   "cell_type": "code",
   "execution_count": null,
   "metadata": {},
   "outputs": [],
   "source": [
    "%matplotlib inline\n",
    "%load_ext autoreload\n",
    "%autoreload 2\n",
    "import matplotlib.pyplot as plt\n",
    "from sotopia.database import EpisodeLog\n",
    "from pydantic import ValidationError\n",
    "from sotopia.generation_utils.generate import LLM_Name\n",
    "from typing import get_args\n",
    "import numpy as np\n",
    "import numpy.typing as npt\n",
    "from collections import defaultdict\n",
    "from rich.console import Console\n",
    "from rich.table import Table\n",
    "from sotopia.envs.evaluators import EvaluationBySocialDimensions\n",
    "from sotopia.database.logs import AnnotationForEpisode\n",
    "from sotopia.database import EpisodeLog\n",
    "import tqdm\n",
    "from pathlib import Path\n",
    "from pandas import read_csv\n",
    "from redis_om import Migrator"
   ]
  },
  {
   "cell_type": "markdown",
   "metadata": {},
   "source": [
    "## Find all csv files in the directory"
   ]
  },
  {
   "cell_type": "code",
   "execution_count": null,
   "metadata": {},
   "outputs": [],
   "source": [
    "csv_files = list(Path(\".\").glob(\"*.csv\"))"
   ]
  },
  {
   "cell_type": "markdown",
   "metadata": {},
   "source": [
    "## Iterate through all csv files and upload them to DB"
   ]
  },
  {
   "cell_type": "code",
   "execution_count": null,
   "metadata": {},
   "outputs": [],
   "source": [
    "SOCIAL_DIMENSIONS: list[str] = list(EvaluationBySocialDimensions.__fields__.keys())\n",
    "\n",
    "Migrator().run()\n",
    "\n",
    "for csv_file in csv_files:\n",
    "    print(f\"Processing {csv_file}\")\n",
    "    d = read_csv(csv_file)\n",
    "    for _, row in tqdm.tqdm(d.iterrows()):\n",
    "        rewards: list[tuple[float, dict[str, float]]] = []\n",
    "        for agent in [\"agent1\", \"agent2\"]:\n",
    "            rewards_for_agent = {\n",
    "                social_dim: row[f\"Answer.{agent}_{social_dim}\"]\n",
    "                for social_dim in SOCIAL_DIMENSIONS\n",
    "            }\n",
    "            rewards.append((sum(rewards_for_agent.values()) / len(rewards_for_agent), rewards_for_agent))\n",
    "        \n",
    "        reasoning = \"\"\n",
    "        for agent_name_in_reasoning, agent in [(\"agent 1\", \"agent1\"), (\"agent 2\", \"agent2\")]:\n",
    "            reasoning += f\"{agent_name_in_reasoning} comments: \"\n",
    "            for social_dim in SOCIAL_DIMENSIONS:\n",
    "                reasoning += f\"{social_dim}: {row[f'Answer.{agent}_{social_dim}_rationale']} \"\n",
    "        \n",
    "        episode_id = row[\"Input.episode_id\"]\n",
    "        assert EpisodeLog.get(pk=episode_id)\n",
    "        existing_annotations = AnnotationForEpisode.find((AnnotationForEpisode.episode==episode_id) & (AnnotationForEpisode.annotator_id==row[\"WorkerId\"])).all()\n",
    "        if existing_annotations:\n",
    "            print(f\"Skipping {episode_id} for {row['WorkerId']} because it already exists\")\n",
    "            continue\n",
    "        annotation = AnnotationForEpisode(\n",
    "            episode=episode_id,\n",
    "            annotator_id=row[\"WorkerId\"],\n",
    "            rewards=rewards,\n",
    "            reasoning=reasoning,\n",
    "        )\n",
    "        annotation.save()\n"
   ]
  },
  {
   "cell_type": "markdown",
   "metadata": {},
   "source": [
    "## Remove disqualified workers"
   ]
  },
  {
   "cell_type": "code",
   "execution_count": null,
   "metadata": {},
   "outputs": [],
   "source": [
    "\n",
    "import ipywidgets as widgets\n",
    "worker_id_widget = widgets.Textarea(\n",
    "    placeholder='Type something',\n",
    "    description='String:',\n",
    "    disabled=False   \n",
    ")\n",
    "worker_id_widget"
   ]
  },
  {
   "cell_type": "code",
   "execution_count": null,
   "metadata": {},
   "outputs": [],
   "source": [
    "layout = widgets.Layout(width='auto', height='40px')\n",
    "worker_id = worker_id_widget.value\n",
    "annotations = AnnotationForEpisode.find(AnnotationForEpisode.annotator_id==worker_id).all()\n",
    "print(f\"Found {len(annotations)} annotations\")\n",
    "def _f(*args, **kwargs):\n",
    "    for annotation in annotations:\n",
    "        print(f\"Deleting Worker {worker_id}'s annotation for Episode {annotation.episode}\")\n",
    "        annotation.delete(annotation.pk)\n",
    "button = widgets.Button(\n",
    "    description='Do you want to delete all annotations for this worker?',\n",
    "    disabled=False,\n",
    "    button_style='warning', # 'success', 'info', 'warning', 'danger' or ''\n",
    "    tooltip='Yes',\n",
    "    icon='trash', # (FontAwesome names without the `fa-` prefix)\n",
    "    layout=layout\n",
    ")\n",
    "button.on_click(_f)\n",
    "button"
   ]
  }
 ],
 "metadata": {
  "kernelspec": {
   "display_name": "sotopia",
   "language": "python",
   "name": "python3"
  },
  "language_info": {
   "codemirror_mode": {
    "name": "ipython",
    "version": 3
   },
   "file_extension": ".py",
   "mimetype": "text/x-python",
   "name": "python",
   "nbconvert_exporter": "python",
   "pygments_lexer": "ipython3",
   "version": "3.11.2"
  }
 },
 "nbformat": 4,
 "nbformat_minor": 2
}
