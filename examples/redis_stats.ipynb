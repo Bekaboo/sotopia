{
 "cells": [
  {
   "cell_type": "code",
   "execution_count": null,
   "metadata": {},
   "outputs": [],
   "source": [
    "import rich\n",
    "from sotopia.database.persistent_profile import AgentProfile, EnvironmentProfile, RelationshipProfile\n",
    "from sotopia.database.logs import EpisodeLog\n",
    "from collections import Counter \n",
    "from redis_om import Migrator "
   ]
  },
  {
   "cell_type": "markdown",
   "metadata": {},
   "source": [
    "## Relationship Profile"
   ]
  },
  {
   "cell_type": "code",
   "execution_count": null,
   "metadata": {},
   "outputs": [],
   "source": [
    "res_pks = RelationshipProfile.all_pks()\n",
    "res_pks = list(res_pks)\n",
    "print(len(res_pks))\n",
    "res = []\n",
    "for pk in res_pks:\n",
    "    print(pk)\n",
    "    try:\n",
    "        res.append(RelationshipProfile.get(pk=pk))\n",
    "    except:\n",
    "        print(\"error\")\n",
    "        pass\n",
    "res_relationships = [r.relationship for r in res]\n",
    "Counter(res_relationships)"
   ]
  },
  {
   "cell_type": "markdown",
   "metadata": {},
   "source": [
    "## Agents Profile"
   ]
  },
  {
   "cell_type": "code",
   "execution_count": null,
   "metadata": {},
   "outputs": [],
   "source": [
    "# obtain a specific agent\n",
    "agents = AgentProfile.find(AgentProfile.first_name == \"ss\").all()\n",
    "rich.print(agents)"
   ]
  },
  {
   "cell_type": "code",
   "execution_count": null,
   "metadata": {},
   "outputs": [],
   "source": [
    "# find specific agnets\n",
    "agents = AgentProfile.find(AgentProfile.gender==\"Man\", AgentProfile.age>30)\n",
    "for agent in agents:\n",
    "    rich.print(agent)"
   ]
  },
  {
   "cell_type": "code",
   "execution_count": null,
   "metadata": {},
   "outputs": [],
   "source": [
    "# obtain all agents' basic info\n",
    "agent_pks = AgentProfile.all_pks()\n",
    "agent_pks = list(agent_pks)\n",
    "print(len(agent_pks))\n",
    "agents = []\n",
    "for pk in agent_pks:\n",
    "    try:\n",
    "        agents.append(AgentProfile.get(pk=pk))\n",
    "    except:\n",
    "        print(\"error\")\n",
    "        pass\n",
    "# output agents's basic info\n",
    "for agent in agents:\n",
    "    rich.print(agent)"
   ]
  },
  {
   "cell_type": "code",
   "execution_count": null,
   "metadata": {},
   "outputs": [],
   "source": [
    "# Update agent's information\n",
    "agents = AgentProfile.find(AgentProfile.first_name == 'Ava', AgentProfile.last_name == 'Martinez').all()[0]"
   ]
  },
  {
   "cell_type": "code",
   "execution_count": null,
   "metadata": {},
   "outputs": [],
   "source": [
    "agents"
   ]
  },
  {
   "cell_type": "code",
   "execution_count": null,
   "metadata": {},
   "outputs": [],
   "source": [
    "agents.update(secret = 'Keeps their bisexuality a secret from her conservative family')"
   ]
  },
  {
   "cell_type": "markdown",
   "metadata": {},
   "source": [
    "## Environment Profile"
   ]
  },
  {
   "cell_type": "code",
   "execution_count": null,
   "metadata": {},
   "outputs": [],
   "source": [
    "env_profile_id = \"01H6S9W1BMGR7MFRPH0V55J2TD\"\n",
    "env = EnvironmentProfile.get(env_profile_id)\n",
    "rich.print(env)"
   ]
  },
  {
   "cell_type": "markdown",
   "metadata": {},
   "source": [
    "## Episode Log"
   ]
  },
  {
   "cell_type": "code",
   "execution_count": null,
   "metadata": {},
   "outputs": [],
   "source": [
    "# tag: 6_initial_aug2\n",
    "# Migrator().run()\n",
    "Episodes = EpisodeLog.find(EpisodeLog.tag == \"6_initial_aug14_full\").all()"
   ]
  },
  {
   "cell_type": "code",
   "execution_count": null,
   "metadata": {},
   "outputs": [],
   "source": [
    "# get a human readable version of the episode\n",
    "agent_profiles, conversation = Episodes[1].render_for_humans()\n",
    "for agent_profile in agent_profiles:\n",
    "    rich.print(agent_profile)\n",
    "for message in conversation:\n",
    "    rich.print(message)"
   ]
  },
  {
   "cell_type": "code",
   "execution_count": null,
   "metadata": {},
   "outputs": [],
   "source": [
    "len(set([Episode.environment for Episode in Episodes]))"
   ]
  },
  {
   "cell_type": "code",
   "execution_count": null,
   "metadata": {},
   "outputs": [],
   "source": [
    "from collections import defaultdict\n",
    "import pandas as pd\n",
    "\n",
    "def get_avg_reward_for_models(episodes: list[EpisodeLog]) -> dict[str, dict[str, float]]:\n",
    "    \"\"\"Get the average reward for each model in the episodes.\n",
    "\n",
    "    Args:\n",
    "        episodes (list[EpisodeLog]): A list of episodes.\n",
    "\n",
    "    Returns:\n",
    "        dict[str, float]: A dictionary mapping model names to average rewards.\n",
    "    \"\"\"\n",
    "    model_rewards = defaultdict(list)\n",
    "    model_rewards_avg = {}\n",
    "    for episode in episodes:\n",
    "        for idx, model in enumerate(episode.models[1:]): # skip env\n",
    "            if isinstance(episode.rewards[idx], tuple):\n",
    "                model_rewards[model].append(episode.rewards[idx])\n",
    "            else:\n",
    "                #rich.print(episode.render_for_humans())\n",
    "                print(episode.rewards)\n",
    "                #print(episode.rewards[idx])\n",
    "\n",
    "    for model in model_rewards:\n",
    "        model_rewards[model] = [rewards[1] for rewards in model_rewards[model]] \n",
    "        model_rewards_avg[model] = pd.DataFrame.from_dict(model_rewards[model])\n",
    "        model_rewards_avg[model] = model_rewards_avg[model].mean(axis=0).to_dict()\n",
    "    return pd.DataFrame.from_dict(model_rewards_avg)\n",
    "\n",
    "def get_avg_successRate_for_models(episodes: list[EpisodeLog]) -> dict[str, dict[str, float]]:\n",
    "    \"\"\"Get the average success rate for each model in the episodes.\n",
    "\n",
    "    Args:\n",
    "        episodes (list[EpisodeLog]): A list of episodes.\n",
    "\n",
    "    Returns:\n",
    "        dict[str, float]: A dictionary mapping model names to average success rates.\n",
    "    \"\"\"\n",
    "    model_rewards = defaultdict(list)\n",
    "    model_successRate_avg = {}\n",
    "    for episode in episodes:\n",
    "        for idx, model in enumerate(episode.models[1:]): # skip env\n",
    "            if isinstance(episode.rewards[idx], tuple):\n",
    "                model_rewards[model].append(episode.rewards[idx])\n",
    "            else:\n",
    "                #rich.print(episode.render_for_humans())\n",
    "                print(episode.rewards, episode.messages[0])\n",
    "                #print(episode.rewards[idx])\n",
    "\n",
    "    for model in model_rewards:\n",
    "        model_successRate_avg[model] = [rewards[1] for rewards in model_rewards[model]]\n",
    "        model_successRate_avg[model] = pd.DataFrame.from_dict(model_successRate_avg[model])\n",
    "    assert len(model_successRate_avg) == 2, \"There should be two models\"\n",
    "    model_list = list(model_successRate_avg.keys())\n",
    "    model_one_successRate = model_successRate_avg[model_list[0]] > model_successRate_avg[model_list[1]]\n",
    "    model_two_successRate = model_successRate_avg[model_list[0]] < model_successRate_avg[model_list[1]]\n",
    "    model_on_par_successRate = model_successRate_avg[model_list[0]] == model_successRate_avg[model_list[1]]\n",
    "    return pd.DataFrame.from_dict({\n",
    "        model_list[0]: model_one_successRate.mean(axis=0).to_dict(),\n",
    "        model_list[1]: model_two_successRate.mean(axis=0).to_dict(),\n",
    "        \"on_par\": model_on_par_successRate.mean(axis=0).to_dict(),\n",
    "    })"
   ]
  },
  {
   "cell_type": "code",
   "execution_count": null,
   "metadata": {},
   "outputs": [],
   "source": [
    "get_avg_reward_for_models(Episodes)"
   ]
  },
  {
   "cell_type": "code",
   "execution_count": null,
   "metadata": {},
   "outputs": [],
   "source": [
    "a = get_avg_successRate_for_models(Episodes)\n",
    "a"
   ]
  }
 ],
 "metadata": {
  "kernelspec": {
   "display_name": "sotopia",
   "language": "python",
   "name": "python3"
  },
  "language_info": {
   "codemirror_mode": {
    "name": "ipython",
    "version": 3
   },
   "file_extension": ".py",
   "mimetype": "text/x-python",
   "name": "python",
   "nbconvert_exporter": "python",
   "pygments_lexer": "ipython3",
   "version": "3.11.2"
  }
 },
 "nbformat": 4,
 "nbformat_minor": 2
}
